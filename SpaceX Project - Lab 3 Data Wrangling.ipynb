{
 "cells": [
  {
   "cell_type": "markdown",
   "id": "04782450",
   "metadata": {},
   "source": [
    "# SpaceX Falcon 9 First Stage Landing Prediction"
   ]
  },
  {
   "cell_type": "markdown",
   "id": "8b189a45",
   "metadata": {},
   "source": [
    "## Lab 3: Data Wrangling"
   ]
  },
  {
   "cell_type": "markdown",
   "id": "170b6eea",
   "metadata": {},
   "source": [
    "In this lab, we will be performing some Exploratory Data Analysis (EDA) to find some patterns in the data and determine what would be the label for the training supervised models.\n",
    "\n",
    "in the data set, there are several different cases where the booster did not land successfully. Sometimes a landing was attempted but failed due to an accident. For example, <code>True Ocean</code> means the mission outcome was successfully landed to a specific region of the ocean while <code>False Ocean</code> means the mission outcome was unsuccessfully landed to a specific region of the ocean. <code>True RTLS</code> means the mission outcome was successfully  landed to a ground pad <code>False RTLS</code> means the mission outcome was unsuccessfully landed to a ground pad.<code>True ASDS</code> means the mission outcome was successfully landed on  a drone ship <code>False ASDS</code> means the mission outcome was unsuccessfully landed on a drone ship.\n",
    "\n",
    "In this lab we will mainly convert those outcomes into Training Labels with `1` means the booster successfully landed `0` means it was unsuccessful."
   ]
  },
  {
   "cell_type": "code",
   "execution_count": null,
   "id": "7e8ba8fb",
   "metadata": {},
   "outputs": [],
   "source": []
  }
 ],
 "metadata": {
  "kernelspec": {
   "display_name": "Python 3 (ipykernel)",
   "language": "python",
   "name": "python3"
  },
  "language_info": {
   "codemirror_mode": {
    "name": "ipython",
    "version": 3
   },
   "file_extension": ".py",
   "mimetype": "text/x-python",
   "name": "python",
   "nbconvert_exporter": "python",
   "pygments_lexer": "ipython3",
   "version": "3.9.7"
  }
 },
 "nbformat": 4,
 "nbformat_minor": 5
}
